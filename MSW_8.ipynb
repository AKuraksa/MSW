{
 "cells": [
  {
   "cell_type": "markdown",
   "metadata": {},
   "source": [
    "# Úloha č.8\n",
    "- Derivace funkce jedné proměnné"
   ]
  },
  {
   "cell_type": "markdown",
   "metadata": {},
   "source": [
    "## Knihovny"
   ]
  },
  {
   "cell_type": "code",
   "execution_count": 2,
   "metadata": {},
   "outputs": [],
   "source": [
    "import math\n",
    "import time"
   ]
  },
  {
   "cell_type": "markdown",
   "metadata": {},
   "source": [
    "## Výpočet"
   ]
  },
  {
   "cell_type": "code",
   "execution_count": 14,
   "metadata": {},
   "outputs": [
    {
     "name": "stdout",
     "output_type": "stream",
     "text": [
      "Kontrolní Řešení: 32\n",
      "Derivace adaptabilní: 32.00000488281603\n",
      "Čas:0.0\n",
      "Derivace pevná: 32.08000000000003\n",
      "Čas: 0.0\n"
     ]
    }
   ],
   "source": [
    "cubic_function = lambda x : x**4\n",
    "derived_function = lambda x : 4*x**3\n",
    "\n",
    "def adaptive_derivative(f, x, tol=1e-5):\n",
    "    h = 0.1\n",
    "    delta = 1\n",
    "    while delta > tol:\n",
    "        h /= 2\n",
    "        xph = x + h\n",
    "        xmh = x - h\n",
    "        num_deriv = (f(xph) - f(xmh)) / (2*h)\n",
    "        h /= 2\n",
    "        xph = x + h\n",
    "        xmh = x - h\n",
    "        num_deriv2 = (f(xph) - f(xmh)) / (2*h)\n",
    "        delta = abs(num_deriv - num_deriv2)\n",
    "    return num_deriv\n",
    "\n",
    "def fixed_derivative(f, x, h=0.1):\n",
    "    xph = x + h\n",
    "    xmh = x - h\n",
    "    num_deriv = (f(xph) - f(xmh)) / (2*h)\n",
    "    return num_deriv\n",
    "\n",
    "print(\"Kontrolní řešení:\", derived_function(2))\n",
    "start_adapt = time.time()\n",
    "print(\"Derivace adaptabilní:\", adaptive_derivative(cubic_function, 2))\n",
    "end_adapt = time.time()\n",
    "print(f\"Čas:{end_adapt - start_adapt}\")\n",
    "start_set = time.time()\n",
    "print(\"Derivace pevná:\", fixed_derivative(cubic_function, 2))\n",
    "end_set = time.time()\n",
    "print(f\"Čas: {end_set - start_set}\")"
   ]
  }
 ],
 "metadata": {
  "kernelspec": {
   "display_name": "Python 3 (ipykernel)",
   "language": "python",
   "name": "python3"
  },
  "language_info": {
   "codemirror_mode": {
    "name": "ipython",
    "version": 3
   },
   "file_extension": ".py",
   "mimetype": "text/x-python",
   "name": "python",
   "nbconvert_exporter": "python",
   "pygments_lexer": "ipython3",
   "version": "3.12.0"
  }
 },
 "nbformat": 4,
 "nbformat_minor": 2
}
