{
 "cells": [
  {
   "cell_type": "markdown",
   "metadata": {},
   "source": [
    "# Úloha č.1\n",
    "- Knihovny a moduly pro matematické výpočty"
   ]
  },
  {
   "cell_type": "markdown",
   "metadata": {},
   "source": [
    "## Knihovny"
   ]
  },
  {
   "cell_type": "code",
   "execution_count": 37,
   "metadata": {},
   "outputs": [],
   "source": [
    "import math\n",
    "import time\n",
    "import numpy as np\n",
    "import scipy.integrate as integrate"
   ]
  },
  {
   "cell_type": "markdown",
   "metadata": {},
   "source": [
    "## Factorial"
   ]
  },
  {
   "cell_type": "code",
   "execution_count": 38,
   "metadata": {},
   "outputs": [
    {
     "name": "stdout",
     "output_type": "stream",
     "text": [
      "Python: 13984\n",
      "Čas: 0.0030405521392822266\n",
      "\n",
      "Math: 13299\n",
      "Čas: 0.0\n",
      "Rozdíl: -0.0030405521392822266\n"
     ]
    }
   ],
   "source": [
    "# Python\n",
    "start_p = time.time()\n",
    "x = 951\n",
    "result = 1\n",
    "\n",
    "for i in range(1, x):\n",
    "    result = result * i \n",
    "end_p = time.time()\n",
    "result = str(result)\n",
    "\n",
    "print(f\"Python: {result[:5]}\" )\n",
    "print(f\"Čas: {(end_p - start_p)}\\n\")\n",
    "\n",
    "# Knihovna\n",
    "result = 0\n",
    "start_k = time.time()\n",
    "result = math.factorial(951)\n",
    "end_k = time.time()\n",
    "result = str(result)\n",
    "\n",
    "print(f\"Math: {result[:5]}\")\n",
    "print(f\"Čas: {(end_k - start_k)}\")\n",
    "print(f\"Rozdíl: {(end_k - start_k) - (end_p - start_p)}\")"
   ]
  },
  {
   "cell_type": "markdown",
   "metadata": {},
   "source": [
    "## Integrál"
   ]
  },
  {
   "cell_type": "code",
   "execution_count": 39,
   "metadata": {},
   "outputs": [
    {
     "name": "stdout",
     "output_type": "stream",
     "text": [
      "Python: 4.125000001250848\n",
      "Čas: 0.057286977767944336\n",
      "Scipy: 4.125\n",
      "Čas: 0.0\n",
      "Rozdíl: -0.057286977767944336\n"
     ]
    }
   ],
   "source": [
    "# Python\n",
    "def f(x):\n",
    "    return (x**2 - x + 4) / 4\n",
    "\n",
    "start_p = time.time()\n",
    "\n",
    "result = 0.0\n",
    "x = 0\n",
    "b = 3\n",
    "dx = 0.0001\n",
    "\n",
    "while x < b:\n",
    "    result += dx * (f(x) + f(x + dx)) / 2\n",
    "    x += dx\n",
    "\n",
    "end_p = time.time()\n",
    "\n",
    "print(f\"Python: {result}\")\n",
    "print(f\"Čas: {(end_p - start_p)}\")\n",
    "\n",
    "# Knihovna\n",
    "start_k = time.time()\n",
    "result, error = integrate.quad(lambda x: (x**2 - x + 4) / 4, 0, 3)\n",
    "end_k = time.time()\n",
    "\n",
    "print(f\"Scipy: {result}\")\n",
    "print(f\"Čas: {(end_k - start_k)}\")\n",
    "\n",
    "print(f\"Rozdíl: {(end_k - start_k) - (end_p - start_p)}\")"
   ]
  },
  {
   "cell_type": "markdown",
   "metadata": {},
   "source": [
    "## Soustava lineárních rovnic"
   ]
  },
  {
   "cell_type": "code",
   "execution_count": 40,
   "metadata": {},
   "outputs": [
    {
     "name": "stdout",
     "output_type": "stream",
     "text": [
      "Python:\n",
      "x0 = 0.986226\n",
      "x1 = 1.914287\n",
      "x2 = -0.973979\n",
      "x3 = 1.318350\n",
      "x4 = 2.263672\n",
      "Čas: 0.0015819072723388672\n",
      "\n",
      "Numpy:\n",
      "x0 = 0.986225\n",
      "x1 = 1.914290\n",
      "x2 = -0.973981\n",
      "x3 = 1.318353\n",
      "x4 = 2.263671\n",
      "Čás: 0.0\n",
      "Rozdíl: -0.0015819072723388672\n"
     ]
    }
   ],
   "source": [
    "# Python\n",
    "def jacob_method(A, b, x0=None, tolerance=1e-10, max_iterations=1000):\n",
    "    n = len(A)\n",
    "    if x0 is None:\n",
    "        x0 = np.zeros(n)\n",
    "    x = x0.copy()\n",
    "    x_new = x0.copy()\n",
    "\n",
    "    for iteration in range(max_iterations):\n",
    "        for i in range(n):\n",
    "            sum_Ax = sum(A[i][j] * x[j] for j in range(n) if j != i)\n",
    "            x_new[i] = (b[i] - sum_Ax) / A[i][i]\n",
    "        if np.allclose(x, x_new, atol=tolerance):\n",
    "            return x_new\n",
    "\n",
    "        x = x_new.copy()\n",
    "\n",
    "    raise ValueError(\"Jacobi method did not converge within the maximum number of iterations\")\n",
    "\n",
    "A = np.array([\n",
    "    [10, -1,  2, 0, 0],\n",
    "    [-1, 11, -1, 3, 0],\n",
    "    [ 2, -1, 10, -1, 0],\n",
    "    [ 0,  3, -1, 8, -1],\n",
    "    [ 0,  0,  0, -1, 5]\n",
    "])\n",
    "b = np.array([6, 25, -11, 15, 10])\n",
    "x0 = np.zeros(len(b))\n",
    "\n",
    "start_p = time.time()\n",
    "result_python = jacob_method(A, b, x0)\n",
    "end_p = time.time()\n",
    "\n",
    "print(\"Python:\")\n",
    "for i, x_i in enumerate(result_python):\n",
    "    print(f\"x{i} = {x_i:.6f}\")\n",
    "print(f\"Čas: {(end_p - start_p)}\\n\")\n",
    "\n",
    "#Knihovna\n",
    "start_k = time.time()\n",
    "result_scipy = np.linalg.solve(A, b)\n",
    "end_k = time.time()\n",
    "\n",
    "print(\"Numpy:\")\n",
    "for i, x_i in enumerate(result_scipy):\n",
    "    print(f\"x{i} = {x_i:.6f}\")\n",
    "\n",
    "print(\"Čás:\", end_k - start_k)\n",
    "print(\"Rozdíl:\", (end_k - start_k) - (end_p - start_p))"
   ]
  },
  {
   "cell_type": "markdown",
   "metadata": {},
   "source": [
    "## Nasobení matic"
   ]
  },
  {
   "cell_type": "code",
   "execution_count": 41,
   "metadata": {},
   "outputs": [
    {
     "name": "stdout",
     "output_type": "stream",
     "text": [
      "Python: [[275, 10625, 5650], [875, 14375, 300], [625, 3375, 800]]\n",
      "Čas: 0.0\n",
      "\n",
      "Numpy:\n",
      " [[  275 10625  5650]\n",
      " [  875 14375   300]\n",
      " [  625  3375   800]]\n",
      "Čas: 0.0\n",
      "Rozdíl: 0.0\n"
     ]
    }
   ],
   "source": [
    "# Python\n",
    "start_p = time.time()\n",
    "\n",
    "result = [[11, 425, 226], [35, 575, 12], [25, 135, 32]]\n",
    "\n",
    "for i in range(len(result)):\n",
    "    for j in range(len(result[0])):\n",
    "        result[i][j] = result[i][j]*25\n",
    "\n",
    "end_p = time.time()\n",
    "\n",
    "print(f\"Python: {result}\")\n",
    "print(f\"Čas: {(end_p - start_p)}\\n\")\n",
    "\n",
    "# Knihovna\n",
    "matrix = [[11, 425, 226], [35, 575, 12], [25, 135, 32]]\n",
    "start_k = time.time()\n",
    "result = np.array(matrix)*25\n",
    "end_k = time.time()\n",
    "\n",
    "print(f\"Numpy:\\n {result}\")\n",
    "print(f\"Čas: {(end_k - start_k)}\")\n",
    "print(f\"Rozdíl: {(end_k - start_k) - (end_p - start_p)}\")"
   ]
  },
  {
   "cell_type": "markdown",
   "metadata": {},
   "source": [
    "## Skalární Součin"
   ]
  },
  {
   "cell_type": "code",
   "execution_count": 42,
   "metadata": {},
   "outputs": [
    {
     "name": "stdout",
     "output_type": "stream",
     "text": [
      "Python: 93\n",
      "Čas: 0.0\n",
      "\n",
      "Numpy: 93\n",
      "Čas: 0.0\n",
      "Rozdíl : 0.0\n"
     ]
    }
   ],
   "source": [
    "# Python\n",
    "start_p = time.time()\n",
    "\n",
    "result = 0\n",
    "a = (4, 8, 5)\n",
    "b = (7, 5, 5)\n",
    "\n",
    "for i in range(len(a)):\n",
    "    result += a[i]*b[i]\n",
    "\n",
    "end_p = time.time()\n",
    "print(f\"Python: {result}\")\n",
    "print(f\"Čas: {(end_p - start_p)}\\n\")\n",
    "\n",
    "# Knihovna\n",
    "start_k = time.time()\n",
    "\n",
    "a = np.array([4, 8, 5])\n",
    "b = np.array([7, 5, 5])\n",
    "\n",
    "result = sum(a*b)\n",
    "\n",
    "end_k = time.time()\n",
    "print(f\"Numpy: {result}\")\n",
    "print(f\"Čas: {(end_k - start_k)}\")\n",
    "print(f\"Rozdíl : {(end_k - start_k) - (end_p - start_p)}\")"
   ]
  }
 ],
 "metadata": {
  "kernelspec": {
   "display_name": "Python 3 (ipykernel)",
   "language": "python",
   "name": "python3"
  },
  "language_info": {
   "codemirror_mode": {
    "name": "ipython",
    "version": 3
   },
   "file_extension": ".py",
   "mimetype": "text/x-python",
   "name": "python",
   "nbconvert_exporter": "python",
   "pygments_lexer": "ipython3",
   "version": "3.12.0"
  }
 },
 "nbformat": 4,
 "nbformat_minor": 2
}
