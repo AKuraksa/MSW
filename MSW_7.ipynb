{
  "cells": [
    {
      "cell_type": "markdown",
      "metadata": {},
      "source": [
        "# Úloha č.7\n",
        "- Metoda Monte Carlo"
      ]
    },
    {
      "cell_type": "code",
      "execution_count": 2,
      "metadata": {
        "id": "r0GgZphS__xm"
      },
      "outputs": [],
      "source": [
        "import random\n",
        "import numpy as np"
      ]
    },
    {
      "cell_type": "code",
      "execution_count": 17,
      "metadata": {
        "colab": {
          "base_uri": "https://localhost:8080/"
        },
        "id": "nbapWbsP_7PE",
        "outputId": "bf8bded6-3658-432f-dda9-500926f7909e"
      },
      "outputs": [
        {
          "name": "stdout",
          "output_type": "stream",
          "text": [
            "Pravděpodobnost získání páru je: 0.09685%\n"
          ]
        }
      ],
      "source": [
        "colors = ['srdce', 'žaludy', 'listy', 'koule']\n",
        "numbers = ['7', '8', '9', '10', 'S', 'M', 'L', 'K']\n",
        "deck = [(number, color) for number in numbers for color in colors]\n",
        "\n",
        "simulace = 100000\n",
        "pocet_paru = 0\n",
        "\n",
        "for i in range(simulace):\n",
        "    random.shuffle(deck)\n",
        "    ruka = deck[:2]\n",
        "    if ruka[0][0] == ruka[1][0]:\n",
        "        pocet_paru += 1\n",
        "\n",
        "pravdepodobnost_paru = pocet_paru / simulace\n",
        "print(f\"Pravděpodobnost: {pravdepodobnost_paru}%\")\n"
      ]
    }
  ],
  "metadata": {
    "colab": {
      "provenance": []
    },
    "kernelspec": {
      "display_name": "Python 3",
      "name": "python3"
    },
    "language_info": {
      "codemirror_mode": {
        "name": "ipython",
        "version": 3
      },
      "file_extension": ".py",
      "mimetype": "text/x-python",
      "name": "python",
      "nbconvert_exporter": "python",
      "pygments_lexer": "ipython3",
      "version": "3.12.0"
    }
  },
  "nbformat": 4,
  "nbformat_minor": 0
}
