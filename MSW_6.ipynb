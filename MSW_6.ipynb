{
  "cells": [
    {
      "cell_type": "markdown",
      "metadata": {},
      "source": [
        "# Úloha č.6\n",
        "- Generování náhodných čísel a testování generátorů"
      ]
    },
    {
      "cell_type": "code",
      "execution_count": 1,
      "metadata": {
        "id": "TLWlh9X0GaK4"
      },
      "outputs": [],
      "source": [
        "import time\n",
        "import random"
      ]
    },
    {
      "cell_type": "code",
      "execution_count": 2,
      "metadata": {
        "colab": {
          "base_uri": "https://localhost:8080/"
        },
        "id": "L34QclD6FX7Q",
        "outputId": "22d6ebc1-e9df-4d82-cf12-2ce2dce818b6"
      },
      "outputs": [
        {
          "name": "stdout",
          "output_type": "stream",
          "text": [
            "Začněte náhodně psát:\n"
          ]
        },
        {
          "name": "stdout",
          "output_type": "stream",
          "text": [
            "0.18288894695620228\n"
          ]
        }
      ],
      "source": [
        "def generator():\n",
        "    print(\"Začněte náhodně psát:\")\n",
        "    psani = input()\n",
        "\n",
        "    cisla = [ord(char) for char in psani]\n",
        "    prumer_psani = sum(cisla) / len(cisla)\n",
        "\n",
        "    start = time.time()\n",
        "    seed = prumer_psani * start\n",
        "    return seed\n",
        "\n",
        "random.seed(generator())\n",
        "\n",
        "print(random.random())\n"
      ]
    }
  ],
  "metadata": {
    "colab": {
      "provenance": []
    },
    "kernelspec": {
      "display_name": "Python 3",
      "name": "python3"
    },
    "language_info": {
      "codemirror_mode": {
        "name": "ipython",
        "version": 3
      },
      "file_extension": ".py",
      "mimetype": "text/x-python",
      "name": "python",
      "nbconvert_exporter": "python",
      "pygments_lexer": "ipython3",
      "version": "3.12.0"
    }
  },
  "nbformat": 4,
  "nbformat_minor": 0
}
